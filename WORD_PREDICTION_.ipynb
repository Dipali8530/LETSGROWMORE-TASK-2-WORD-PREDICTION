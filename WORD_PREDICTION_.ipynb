{
  "cells": [
    {
      "cell_type": "markdown",
      "source": [
        "𝐋𝐞𝐭𝐬𝐆𝐫𝐨𝐰𝐌𝐎𝐫𝐞 (𝐋𝐆𝐌𝐕𝐈𝐏) - 𝐃𝐀𝐓𝐀 𝐒𝐂𝐈𝐄𝐍𝐂𝐄 𝐈𝐍𝐓𝐄𝐑𝐍\n",
        "\n",
        "LGMVIP APRIL-22 AUTHOR - Kale Dipali Dnyaneshwar\n",
        "\n",
        "ADVANCED LEVEL TASK\n",
        "\n",
        "Task 2)- NEXT WORD PREDICTION"
      ],
      "metadata": {
        "id": "cbP2d2Iln5eU"
      }
    },
    {
      "cell_type": "code",
      "execution_count": 16,
      "metadata": {
        "id": "NM4lBCY-E2qX"
      },
      "outputs": [],
      "source": [
        "#Importing packages\n",
        "import numpy as np\n",
        "np.random.seed(42)\n",
        "import tensorflow as tf\n",
        "tf.random.set_seed(42)\n",
        " \n",
        "from tensorflow.keras.models import Sequential, load_model\n",
        "from tensorflow.keras.layers import Dense, Activation\n",
        "from tensorflow.keras.layers import LSTM, Dropout\n",
        "from tensorflow.keras.layers import TimeDistributed\n",
        "from tensorflow.keras.layers import Dense, Activation, Dropout, RepeatVector\n",
        "from tensorflow.keras.optimizers import  RMSprop\n",
        "import matplotlib.pyplot as plt\n",
        "import pickle\n",
        "import heapq"
      ]
    },
    {
      "cell_type": "code",
      "execution_count": 17,
      "metadata": {
        "colab": {
          "base_uri": "https://localhost:8080/"
        },
        "id": "nP-HKUk9FD-m",
        "outputId": "3cce06d2-9d2b-4c29-acb8-38587f09ed5d"
      },
      "outputs": [
        {
          "output_type": "stream",
          "name": "stdout",
          "text": [
            "Drive already mounted at /content/drive; to attempt to forcibly remount, call drive.mount(\"/content/drive\", force_remount=True).\n"
          ]
        }
      ],
      "source": [
        "from google.colab import drive\n",
        "drive.mount('/content/drive')"
      ]
    },
    {
      "cell_type": "code",
      "execution_count": 18,
      "metadata": {
        "colab": {
          "base_uri": "https://localhost:8080/"
        },
        "id": "7E46J0AkFbZd",
        "outputId": "43757a27-fd75-4497-d3b1-ac81822f7df7"
      },
      "outputs": [
        {
          "output_type": "stream",
          "name": "stdout",
          "text": [
            "corpus length: 581888\n"
          ]
        }
      ],
      "source": [
        "#Loading the data\n",
        "path = '/content/drive/MyDrive/Lets grow more task 2 iris dataset/1661-0 advanced level task 8 NEXT WORD PREDICTION.txt'\n",
        "text = open(path,encoding = \"utf8\").read().lower()\n",
        "print('corpus length:', len(text))"
      ]
    },
    {
      "cell_type": "code",
      "execution_count": 19,
      "metadata": {
        "colab": {
          "base_uri": "https://localhost:8080/"
        },
        "id": "PRybBoPCFoz2",
        "outputId": "1ea4b81c-0db6-4b45-cf47-ae910dd0859f"
      },
      "outputs": [
        {
          "output_type": "stream",
          "name": "stdout",
          "text": [
            "unique chars: 73\n"
          ]
        }
      ],
      "source": [
        "#Data Preprocessing\n",
        "character = sorted(list(set(text)))\n",
        "char_indices = dict((c, i) for i, c in enumerate(character))\n",
        "indices_char = dict((i, c) for i, c in enumerate(character))\n",
        " \n",
        "print(f'unique chars: {len(character)}')\n"
      ]
    },
    {
      "cell_type": "code",
      "execution_count": 20,
      "metadata": {
        "colab": {
          "base_uri": "https://localhost:8080/"
        },
        "id": "LhkvsH55F6io",
        "outputId": "0f8bc72f-8960-4759-abaa-3794de422852"
      },
      "outputs": [
        {
          "output_type": "stream",
          "name": "stdout",
          "text": [
            "num training examples: 193946\n"
          ]
        }
      ],
      "source": [
        "#chunk 50 characters with 3 sequences\n",
        "seq_len = 50\n",
        "step = 3\n",
        "sentences = []\n",
        "next_chars = []\n",
        "for i in range(0, len(text) - seq_len, step):\n",
        "    sentences.append(text[i: i + seq_len ])\n",
        "    next_chars.append(text[i + seq_len])\n",
        "print(f'num training examples: {len(sentences)}')"
      ]
    },
    {
      "cell_type": "code",
      "execution_count": 21,
      "metadata": {
        "colab": {
          "base_uri": "https://localhost:8080/",
          "height": 160
        },
        "id": "J5y3BvUdF_Cg",
        "outputId": "93b5afd4-24a5-441c-8cfa-4712792a4707"
      },
      "outputs": [
        {
          "output_type": "stream",
          "name": "stderr",
          "text": [
            "/usr/local/lib/python3.7/dist-packages/ipykernel_launcher.py:3: DeprecationWarning: `np.bool` is a deprecated alias for the builtin `bool`. To silence this warning, use `bool` by itself. Doing this will not modify any behavior and is safe. If you specifically wanted the numpy scalar type, use `np.bool_` here.\n",
            "Deprecated in NumPy 1.20; for more details and guidance: https://numpy.org/devdocs/release/1.20.0-notes.html#deprecations\n",
            "  This is separate from the ipykernel package so we can avoid doing imports until\n",
            "/usr/local/lib/python3.7/dist-packages/ipykernel_launcher.py:4: DeprecationWarning: `np.bool` is a deprecated alias for the builtin `bool`. To silence this warning, use `bool` by itself. Doing this will not modify any behavior and is safe. If you specifically wanted the numpy scalar type, use `np.bool_` here.\n",
            "Deprecated in NumPy 1.20; for more details and guidance: https://numpy.org/devdocs/release/1.20.0-notes.html#deprecations\n",
            "  after removing the cwd from sys.path.\n"
          ]
        },
        {
          "output_type": "execute_result",
          "data": {
            "text/plain": [
              "'s'"
            ],
            "application/vnd.google.colaboratory.intrinsic+json": {
              "type": "string"
            }
          },
          "metadata": {},
          "execution_count": 21
        }
      ],
      "source": [
        "# generating our features and labels\n",
        "#one hot encoding\n",
        "X = np.zeros((len(sentences), seq_len, len(character)), dtype=np.bool)\n",
        "y = np.zeros((len(sentences), len(character)), dtype=np.bool)\n",
        "for i, sentence in enumerate(sentences):\n",
        "    for t, char in enumerate(sentence):\n",
        "        X[i, t, char_indices[char]] = 1\n",
        "    y[i, char_indices[next_chars[i]]] = 1\n",
        "\n",
        "sentences[154]\n",
        "next_chars[900]"
      ]
    },
    {
      "cell_type": "code",
      "execution_count": 22,
      "metadata": {
        "colab": {
          "base_uri": "https://localhost:8080/"
        },
        "id": "WVkd0MGyGIqv",
        "outputId": "de0eeafb-6b9d-4efc-898d-24b6330ef32b"
      },
      "outputs": [
        {
          "output_type": "execute_result",
          "data": {
            "text/plain": [
              "array([False, False, False, False, False, False, False, False, False,\n",
              "       False, False, False, False, False, False, False, False, False,\n",
              "       False, False, False, False, False, False, False, False, False,\n",
              "       False, False, False, False, False, False, False, False, False,\n",
              "       False, False, False, False, False, False, False, False, False,\n",
              "       False, False, False, False, False, False, False, False, False,\n",
              "       False, False, False, False, False, False, False, False, False,\n",
              "       False, False, False, False, False, False, False, False, False,\n",
              "        True])"
            ]
          },
          "metadata": {},
          "execution_count": 22
        }
      ],
      "source": [
        "#one hot encoded data\n",
        "X[0][0]"
      ]
    },
    {
      "cell_type": "code",
      "execution_count": null,
      "metadata": {
        "colab": {
          "base_uri": "https://localhost:8080/"
        },
        "id": "FpDpEn2HGOqB",
        "outputId": "791c567d-d331-455a-db4e-cf2f54272f24"
      },
      "outputs": [
        {
          "output_type": "execute_result",
          "data": {
            "text/plain": [
              "array([False, False, False, False, False, False, False, False, False,\n",
              "       False, False, False, False, False, False, False, False, False,\n",
              "       False, False, False, False, False, False, False, False, False,\n",
              "       False, False, False, False, False, False, False, False, False,\n",
              "       False, False, False, False, False, False, False, False, False,\n",
              "       False, False,  True, False, False, False, False, False, False,\n",
              "       False, False, False, False, False, False, False, False, False,\n",
              "       False, False, False, False, False, False, False, False, False,\n",
              "       False])"
            ]
          },
          "metadata": {},
          "execution_count": 10
        }
      ],
      "source": [
        "#one hot encoded data\n",
        "y[0]"
      ]
    },
    {
      "cell_type": "code",
      "execution_count": null,
      "metadata": {
        "colab": {
          "base_uri": "https://localhost:8080/"
        },
        "id": "4shpK1xkGQmP",
        "outputId": "3d99be87-5141-4897-b9c0-73dc182507da"
      },
      "outputs": [
        {
          "output_type": "execute_result",
          "data": {
            "text/plain": [
              "(193946, 50, 73)"
            ]
          },
          "metadata": {},
          "execution_count": 11
        }
      ],
      "source": [
        "X.shape"
      ]
    },
    {
      "cell_type": "code",
      "execution_count": null,
      "metadata": {
        "colab": {
          "base_uri": "https://localhost:8080/"
        },
        "id": "tGvb3UukGXbH",
        "outputId": "d3599974-1143-465a-c603-2775bd63f98f"
      },
      "outputs": [
        {
          "output_type": "execute_result",
          "data": {
            "text/plain": [
              "(193946, 73)"
            ]
          },
          "metadata": {},
          "execution_count": 12
        }
      ],
      "source": [
        "y.shape"
      ]
    },
    {
      "cell_type": "code",
      "execution_count": null,
      "metadata": {
        "id": "x8qfeLXjGcNj"
      },
      "outputs": [],
      "source": [
        "# Creating the model\n",
        "model = Sequential()\n",
        "model.add(LSTM(128, input_shape=(seq_len, len(character))))\n",
        "model.add(Dense(len(character)))\n",
        "model.add(Activation('softmax'))"
      ]
    },
    {
      "cell_type": "code",
      "execution_count": null,
      "metadata": {
        "colab": {
          "base_uri": "https://localhost:8080/"
        },
        "id": "TQk1MIXlGiF5",
        "outputId": "831be924-e901-4767-dda9-bd702e3e6d3b"
      },
      "outputs": [
        {
          "output_type": "stream",
          "name": "stdout",
          "text": [
            "Model: \"sequential\"\n",
            "_________________________________________________________________\n",
            " Layer (type)                Output Shape              Param #   \n",
            "=================================================================\n",
            " lstm (LSTM)                 (None, 128)               103424    \n",
            "                                                                 \n",
            " dense (Dense)               (None, 73)                9417      \n",
            "                                                                 \n",
            " activation (Activation)     (None, 73)                0         \n",
            "                                                                 \n",
            "=================================================================\n",
            "Total params: 112,841\n",
            "Trainable params: 112,841\n",
            "Non-trainable params: 0\n",
            "_________________________________________________________________\n"
          ]
        }
      ],
      "source": [
        "model.summary()"
      ]
    },
    {
      "cell_type": "code",
      "execution_count": 23,
      "metadata": {
        "colab": {
          "base_uri": "https://localhost:8080/"
        },
        "id": "vf2Wv6ARGiTq",
        "outputId": "a54c4076-6250-44c4-a37e-c374767f4bfd"
      },
      "outputs": [
        {
          "output_type": "stream",
          "name": "stdout",
          "text": [
            "Epoch 1/7\n",
            "1501/1501 [==============================] - 232s 153ms/step - loss: 1.5702 - accuracy: 0.5308 - val_loss: 2.0323 - val_accuracy: 0.4613\n",
            "Epoch 2/7\n",
            "1501/1501 [==============================] - 229s 152ms/step - loss: 1.4955 - accuracy: 0.5503 - val_loss: 1.9666 - val_accuracy: 0.4856\n",
            "Epoch 3/7\n",
            "1501/1501 [==============================] - 229s 153ms/step - loss: 1.4528 - accuracy: 0.5617 - val_loss: 1.9785 - val_accuracy: 0.4876\n",
            "Epoch 4/7\n",
            "1501/1501 [==============================] - 230s 153ms/step - loss: 1.4236 - accuracy: 0.5696 - val_loss: 2.0122 - val_accuracy: 0.4716\n",
            "Epoch 5/7\n",
            "1501/1501 [==============================] - 229s 152ms/step - loss: 1.4006 - accuracy: 0.5762 - val_loss: 2.0135 - val_accuracy: 0.4881\n",
            "Epoch 6/7\n",
            "1501/1501 [==============================] - 229s 153ms/step - loss: 1.3830 - accuracy: 0.5798 - val_loss: 1.9895 - val_accuracy: 0.4840\n",
            "Epoch 7/7\n",
            "1501/1501 [==============================] - 230s 153ms/step - loss: 1.3706 - accuracy: 0.5822 - val_loss: 1.9973 - val_accuracy: 0.4943\n"
          ]
        }
      ],
      "source": [
        "# Training our model\n",
        "optimizer = RMSprop(learning_rate=0.01)\n",
        "model.compile(loss='categorical_crossentropy', optimizer=optimizer, metrics=['accuracy'])\n",
        "history = model.fit(X, y,\n",
        "                    validation_split=0.01, \n",
        "                    batch_size=128,\n",
        "                    epochs=7, \n",
        "                    shuffle=True).history"
      ]
    },
    {
      "cell_type": "code",
      "execution_count": 24,
      "metadata": {
        "id": "84B7oMBrHxoT",
        "colab": {
          "base_uri": "https://localhost:8080/"
        },
        "outputId": "42ea4911-5095-4554-ac74-fdd664c9c2d0"
      },
      "outputs": [
        {
          "output_type": "stream",
          "name": "stderr",
          "text": [
            "WARNING:absl:Found untraced functions such as lstm_cell_layer_call_fn, lstm_cell_layer_call_and_return_conditional_losses while saving (showing 2 of 2). These functions will not be directly callable after loading.\n"
          ]
        },
        {
          "output_type": "stream",
          "name": "stdout",
          "text": [
            "INFO:tensorflow:Assets written to: NW_keras_model.h5)/assets\n"
          ]
        },
        {
          "output_type": "stream",
          "name": "stderr",
          "text": [
            "INFO:tensorflow:Assets written to: NW_keras_model.h5)/assets\n",
            "WARNING:absl:<keras.layers.recurrent.LSTMCell object at 0x7fd785545a10> has the same name 'LSTMCell' as a built-in Keras object. Consider renaming <class 'keras.layers.recurrent.LSTMCell'> to avoid naming conflicts when loading with `tf.keras.models.load_model`. If renaming is not possible, pass the object in the `custom_objects` parameter of the load function.\n"
          ]
        }
      ],
      "source": [
        "model.save('NW_keras_model.h5)')"
      ]
    },
    {
      "cell_type": "code",
      "execution_count": 25,
      "metadata": {
        "id": "VxQLIypsG4Oc"
      },
      "outputs": [],
      "source": [
        "model=load_model('NW_keras_model.h5)')\n",
        "pickle.dump(history,open(\"history.p\",\"wb\"))"
      ]
    },
    {
      "cell_type": "code",
      "execution_count": 26,
      "metadata": {
        "id": "DD4SqLxTG8Kw"
      },
      "outputs": [],
      "source": [
        "#loading our model\n",
        "model = load_model('NW_keras_model.h5)')\n",
        "history = pickle.load(open(\"history.p\", \"rb\"))"
      ]
    },
    {
      "cell_type": "code",
      "execution_count": 27,
      "metadata": {
        "id": "E3W793VkG8N7",
        "colab": {
          "base_uri": "https://localhost:8080/"
        },
        "outputId": "35ca632a-e5fc-4e47-ebb5-34b18e306f92"
      },
      "outputs": [
        {
          "output_type": "stream",
          "name": "stdout",
          "text": [
            "6061/6061 [==============================] - 112s 18ms/step - loss: 1.3236 - accuracy: 0.5967\n",
            "Test Loss 1.3236355781555176\n",
            "Test Accuracy 0.5967176556587219\n"
          ]
        }
      ],
      "source": [
        "#Model Evaluation\n",
        "loss_and_acc=model.evaluate(X,y)\n",
        "print(\"Test Loss\", loss_and_acc[0])\n",
        "print(\"Test Accuracy\", loss_and_acc[1])"
      ]
    },
    {
      "cell_type": "code",
      "execution_count": 28,
      "metadata": {
        "id": "y9dk6VueG8SK",
        "colab": {
          "base_uri": "https://localhost:8080/",
          "height": 417
        },
        "outputId": "feec4f3e-92d2-496e-9f85-5a9cd4febf75"
      },
      "outputs": [
        {
          "output_type": "display_data",
          "data": {
            "text/plain": [
              "<Figure size 1440x432 with 2 Axes>"
            ],
            "image/png": "[encoded data removed]"
          },
          "metadata": {
            "needs_background": "light"
          }
        }
      ],
      "source": [
        "acc = history['accuracy']\n",
        "val_acc = history['val_accuracy']\n",
        "loss = history['loss']\n",
        "val_loss = history['val_loss']\n",
        "epochs = range(len(acc))\n",
        "\n",
        "\n",
        "\n",
        "\n",
        "\n",
        "fig, ax = plt.subplots(nrows=1, ncols=2, figsize=(20, 6))\n",
        "ax[0].plot(epochs, acc, 'y', label='Training accuracy')\n",
        "ax[0].plot(epochs, val_acc, 'g', label='Validation accuracy')\n",
        "ax[0].legend(loc=0)\n",
        "ax[1].plot(epochs, loss, 'y', label='Training loss')\n",
        "ax[1].plot(epochs, val_loss, 'g', label='Validation loss')\n",
        "ax[1].legend(loc=0)\n",
        "\n",
        "plt.suptitle('Training and validation')\n",
        "plt.show()\n"
      ]
    },
    {
      "cell_type": "code",
      "execution_count": 29,
      "metadata": {
        "id": "KT4Z09GrOXhI",
        "colab": {
          "base_uri": "https://localhost:8080/"
        },
        "outputId": "600bf5a7-3f3f-46c1-efe1-7ade03e69f30"
      },
      "outputs": [
        {
          "output_type": "execute_result",
          "data": {
            "text/plain": [
              "array([[[0., 0., 0., ..., 0., 0., 0.],\n",
              "        [0., 0., 0., ..., 0., 0., 0.],\n",
              "        [0., 0., 0., ..., 0., 0., 0.],\n",
              "        ...,\n",
              "        [0., 0., 0., ..., 0., 0., 0.],\n",
              "        [0., 0., 0., ..., 0., 0., 0.],\n",
              "        [0., 0., 0., ..., 0., 0., 0.]]])"
            ]
          },
          "metadata": {},
          "execution_count": 29
        }
      ],
      "source": [
        "def prepare_input(text):\n",
        "    x = np.zeros((1, seq_len, len(character)))\n",
        "    for t, char in enumerate(text):\n",
        "        x[0, t, char_indices[char]] = 1.\n",
        "        \n",
        "    return x\n",
        "\n",
        "prepare_input(\"This is an example of input of our model\".lower())"
      ]
    },
    {
      "cell_type": "code",
      "execution_count": 30,
      "metadata": {
        "id": "sw02mhTbHFj0"
      },
      "outputs": [],
      "source": [
        "#functions to get next probable characters\n",
        "def sample(preds, top_n=3):\n",
        "    preds = np.asarray(preds).astype('float64')\n",
        "    preds = np.log(preds)\n",
        "    exp_preds = np.exp(preds)\n",
        "    preds = exp_preds / np.sum(exp_preds)\n",
        "    \n",
        "    return heapq.nlargest(top_n, range(len(preds)), preds.take)"
      ]
    },
    {
      "cell_type": "code",
      "execution_count": 31,
      "metadata": {
        "id": "CwbgEPQuHF1T"
      },
      "outputs": [],
      "source": [
        "def predict_completion(text):\n",
        "    original_text = text\n",
        "    generated = text\n",
        "    completion = ''\n",
        "    while True:\n",
        "        x = prepare_input(text)\n",
        "        preds = model.predict(x, verbose=0)[0]\n",
        "        next_index = sample(preds, top_n=1)[0]\n",
        "        next_char = indices_char[next_index]\n",
        "        text = text[1:] + next_char\n",
        "        completion += next_char\n",
        "        \n",
        "        if len(original_text + completion) + 2 > len(original_text) and next_char == ' ':\n",
        "            return completion"
      ]
    },
    {
      "cell_type": "code",
      "execution_count": 32,
      "metadata": {
        "id": "gT1xnwOaHaVM"
      },
      "outputs": [],
      "source": [
        "def predict_completions(text, n=3):\n",
        "    x = prepare_input(text)\n",
        "    preds = model.predict(x, verbose=0)[0]\n",
        "    next_indices = sample(preds, n)\n",
        "    return [indices_char[idx] + predict_completion(text[1:] + indices_char[idx]) for idx in next_indices]"
      ]
    },
    {
      "cell_type": "code",
      "execution_count": 33,
      "metadata": {
        "id": "Pn7O_DpiHae5"
      },
      "outputs": [],
      "source": [
        "quotes = [\n",
        "    \"It is not a lack of love, but a lack of friendship that makes unhappy marriages.\",\n",
        "    \"That which does not kill us makes us stronger.\",\n",
        "    \"I'm not upset that you lied to me, I'm upset that from now on I can't believe you.\",\n",
        "    \"And those who were seen dancing were thought to be insane by those who could not hear the music.\",\n",
        "    \"It is hard enough to remember my opinions, without also remembering my reasons for them!\"\n",
        "]"
      ]
    },
    {
      "cell_type": "code",
      "execution_count": null,
      "metadata": {
        "colab": {
          "background_save": true,
          "base_uri": "https://localhost:8080/"
        },
        "id": "WxlUu0t8Hj6W",
        "outputId": "c3500673-2446-4241-a738-eb38873e6abd"
      },
      "outputs": [
        {
          "output_type": "stream",
          "name": "stdout",
          "text": [
            "it is not a lack of love, but a lack of \n"
          ]
        }
      ],
      "source": [
        "for q in quotes:\n",
        "    seq = q[:40].lower()\n",
        "    print(seq)\n",
        "    print(predict_completions(seq, 5))\n",
        "    print()"
      ]
    },
    {
      "cell_type": "code",
      "execution_count": null,
      "metadata": {
        "id": "WVVdBVsLOjra"
      },
      "outputs": [],
      "source": [
        ""
      ]
    },
    {
      "cell_type": "markdown",
      "source": [
        "THANK YOU!"
      ],
      "metadata": {
        "id": "HdI6pa9yo3Rt"
      }
    }
  ],
  "metadata": {
    "colab": {
      "name": "WORD PREDICTION .ipynb",
      "provenance": []
    },
    "kernelspec": {
      "display_name": "Python 3",
      "name": "python3"
    },
    "language_info": {
      "name": "python"
    }
  },
  "nbformat": 4,
  "nbformat_minor": 0
}